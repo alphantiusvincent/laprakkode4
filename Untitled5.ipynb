{
  "nbformat": 4,
  "nbformat_minor": 0,
  "metadata": {
    "colab": {
      "provenance": []
    },
    "kernelspec": {
      "name": "python3",
      "display_name": "Python 3"
    },
    "language_info": {
      "name": "python"
    }
  },
  "cells": [
    {
      "cell_type": "code",
      "execution_count": null,
      "metadata": {
        "id": "zi5Z8PSjKndt"
      },
      "outputs": [],
      "source": [
        "# definisikan fungsi tambah terlebih dahulu\n",
        "def tambah(a, b):\n",
        " hasil = a + b\n",
        "\n",
        "\n",
        " # panggil fungsi tambah dengan dua arguments berupa nilai: 10 dan 5\n",
        "c = tambah(10, 5)\n",
        "print(c)"
      ]
    },
    {
      "cell_type": "code",
      "source": [
        "def hitung_belanja(belanja, diskon=0):\n",
        "    bayar = belanja - (belanja * diskon)/100\n",
        "    return bayar\n",
        "print(hitung_belanja(100000))\n",
        "print(hitung_belanja(100000, 10))\n",
        "print(hitung_belanja(100000, 50))\n"
      ],
      "metadata": {
        "id": "tl9acoybKp2q"
      },
      "execution_count": null,
      "outputs": []
    },
    {
      "cell_type": "code",
      "source": [
        "nama = input(\"masukkann nama:\")\n",
        "\n",
        "print(\"hallo\",nama,\"kamu terlihat manis sekali hariini\")"
      ],
      "metadata": {
        "id": "QII922Q9Kp9J"
      },
      "execution_count": null,
      "outputs": []
    },
    {
      "cell_type": "code",
      "source": [
        "def cetak(a, b, c):\n",
        "    print(\"Nilai a: \",a)\n",
        "    print(\"Nilai b: \",b)\n",
        "    print(\"Nilai c: \",c)\n",
        "cetak(20, 30, 40)\n",
        "\n",
        "def cetak(a, b, c):\n",
        "    print(\"Nilai a: \",a)\n",
        "    print(\"Nilai b: \",b)\n",
        "    print(\"Nilai c: \",c)\n",
        "cetak(a=20, b=30, c=40)\n",
        "\n",
        "def cetak(a, b, c):\n",
        "    print(\"Nilai a: \",a)\n",
        "    print(\"Nilai b: \",b)\n",
        "    print(\"Nilai c: \",c)\n",
        "cetak(b=30, c=40, a=20)"
      ],
      "metadata": {
        "id": "v0hvlJjoKqDk"
      },
      "execution_count": null,
      "outputs": []
    },
    {
      "cell_type": "code",
      "source": [
        "ef abc(a, b, c):\n",
        "    a = b + c\n",
        "    b = c + a\n",
        "    c = a + b\n",
        "nilai1 = 20\n",
        "nilai2 = 30\n",
        "nilai3 = 40\n",
        "abc(nilai1, nilai2, nilai3)\n",
        "print(nilai1)\n",
        "print(nilai2)\n",
        "print(nilai3)"
      ],
      "metadata": {
        "id": "WdwuYC--KqJ5"
      },
      "execution_count": null,
      "outputs": []
    },
    {
      "cell_type": "code",
      "source": [
        "def print_twice(message):\n",
        "    print(message)\n",
        "    print(message)\n",
        "print_twice(\"Hello World!\")"
      ],
      "metadata": {
        "id": "K4M84bBnLXiJ"
      },
      "execution_count": null,
      "outputs": []
    },
    {
      "cell_type": "code",
      "source": [
        "def tambah(a, b):\n",
        "    hasil = a + b\n",
        "    return hasil\n",
        "\n",
        "print(tambah(10,20))\n"
      ],
      "metadata": {
        "id": "8XkIhw4iLXuw"
      },
      "execution_count": null,
      "outputs": []
    },
    {
      "cell_type": "code",
      "source": [
        "def hitung_belanja(belanja, diskon=0):\n",
        "    bayar = belanja - (belanja * diskon)/100\n",
        "    return bayar\n",
        "print(hitung_belanja(100000))\n",
        "print(hitung_belanja(100000, 10))\n",
        "print(hitung_belanja(100000, 50))"
      ],
      "metadata": {
        "id": "ByEfV6_4LhXs"
      },
      "execution_count": null,
      "outputs": []
    },
    {
      "cell_type": "code",
      "source": [],
      "metadata": {
        "id": "eUZnzXTqLhcb"
      },
      "execution_count": null,
      "outputs": []
    }
  ]
}